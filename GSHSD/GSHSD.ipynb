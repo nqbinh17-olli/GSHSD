{
 "cells": [
  {
   "cell_type": "code",
   "execution_count": null,
   "metadata": {},
   "outputs": [],
   "source": [
    "import functools\n",
    "\n",
    "import torch\n",
    "from torch import nn\n",
    "from model.model import TransformerEncoder\n",
    "from model.metrices import F1Score\n",
    "from HSDDataset import ViHSDData\n",
    "\n",
    "from torch.utils.data import DataLoader, RandomSampler\n",
    "from tqdm.notebook import tqdm\n",
    "# from tqdm import tqdm\n",
    "from transformers import AdamW, get_linear_schedule_with_warmup\n",
    "from torch.utils.tensorboard import SummaryWriter\n",
    "from utils import get_device"
   ]
  },
  {
   "cell_type": "code",
   "execution_count": null,
   "metadata": {},
   "outputs": [],
   "source": [
    "LR = 1e-6\n",
    "n_epochs = 500\n",
    "classes_num = 3\n",
    "batch_size = 32\n",
    "checkpoint_batch_size = 1024\n",
    "max_len = 38\n",
    "device = get_device()\n",
    "\n",
    "writer = SummaryWriter()"
   ]
  },
  {
   "cell_type": "code",
   "execution_count": null,
   "metadata": {},
   "outputs": [],
   "source": [
    "import emoji\n",
    "import re\n",
    "\n",
    "def proprocess(x):\n",
    "    x = str(x)\n",
    "    x = emoji.replace_emoji(x, replace='')\n",
    "    x = re.sub(r\" +\", \" \", x)\n",
    "    return x.lower().strip()"
   ]
  },
  {
   "cell_type": "code",
   "execution_count": null,
   "metadata": {},
   "outputs": [],
   "source": [
    "model_collate_fn = functools.partial(lambda x: x)\n",
    "\n",
    "train_data = ViHSDData(\"./data/vihsd/train.csv\", \n",
    "                 utterance_feild = \"free_text\", \n",
    "                 label_feild=\"label_id\", \n",
    "                 text_preprocessor=proprocess\n",
    "                )\n",
    "train_sampler = RandomSampler(train_data)\n",
    "data_loader = DataLoader(train_data, batch_size=batch_size, sampler=train_sampler, collate_fn=model_collate_fn)\n",
    "\n",
    "\n",
    "val_data = ViHSDData(\"./data/vihsd/dev.csv\", \n",
    "                 utterance_feild = \"free_text\", \n",
    "                 label_feild=\"label_id\", \n",
    "                 text_preprocessor=proprocess\n",
    "                )\n",
    "val_sampler = RandomSampler(val_data)\n",
    "val_loader = DataLoader(val_data, batch_size=batch_size, sampler=val_sampler, collate_fn=model_collate_fn)\n",
    "\n",
    "\n",
    "test_data = ViHSDData(\"./data/vihsd/test.csv\", \n",
    "                 utterance_feild = \"free_text\", \n",
    "                 label_feild=\"label_id\", \n",
    "                 text_preprocessor=proprocess\n",
    "                )\n",
    "test_sampler = RandomSampler(test_data)\n",
    "test_loader = DataLoader(test_data, batch_size=batch_size, sampler=test_sampler, collate_fn=model_collate_fn)\n",
    "\n",
    "training_step = len(data_loader)*n_epochs\n",
    "print(f\"Total {training_step} training steps for this dataset\")"
   ]
  },
  {
   "cell_type": "code",
   "execution_count": null,
   "metadata": {},
   "outputs": [],
   "source": [
    "# Defining Model for specific fold \"vinai/phobert-base\"\n",
    "model = TransformerEncoder(\"./weights/multiBERTuncased\", classes_num = classes_num,\n",
    "                            max_seq_length = max_len, \n",
    "                            checkpoint_batch_size = checkpoint_batch_size,\n",
    "                            dropout_rate = 0.5, \n",
    "                            model_args = {\"output_hidden_states\":False}\n",
    "                            )\n",
    "\n",
    "cross_entropy_loss = nn.CrossEntropyLoss()\n",
    "\n",
    "model.to(device)\n",
    "cross_entropy_loss.to(device)\n",
    "\n",
    "\n",
    "model_params = list(model.named_parameters()) # included all params from pooler and transformers\n",
    "no_decay = [\"bias\", \"LayerNorm.bias\", \"LayerNorm.weight\"]\n",
    "model_params = [{'params': [p for n, p in model_params if not any(nd in n for nd in no_decay)], 'weight_decay': 0.0001},\n",
    "                {'params': [p for n, p in model_params if any(nd in n for nd in no_decay)], 'weight_decay': 0.0},\n",
    "               ]\n",
    "optimizer = AdamW(model_params, lr=LR)\n",
    "scheduler = get_linear_schedule_with_warmup(optimizer,\n",
    "                                            num_warmup_steps=training_step*0.5, \n",
    "                                            num_training_steps=training_step\n",
    "                                            )\n",
    "\n",
    "# for param in model.sent_encoder.embeddings.parameters():\n",
    "#     param.requires_grad = False"
   ]
  },
  {
   "cell_type": "code",
   "execution_count": null,
   "metadata": {},
   "outputs": [],
   "source": [
    "def make_batch(batch, tokenizer, max_len=64, device=\"cuda:0\"):\n",
    "    text_list, labels = [text for text,_ in batch], [label for _,label in batch]\n",
    "    labels = torch.LongTensor(labels).to(device)\n",
    "    toks = tokenizer.batch_encode_plus(text_list, max_length=max_len, padding='max_length', truncation=True)\n",
    "    ids, mask = (torch.LongTensor(toks[\"input_ids\"]).to(device), torch.LongTensor(toks[\"attention_mask\"]).to(device))\n",
    "    inputs = {\"input_ids\": ids, \"attention_mask\": mask}\n",
    "    return inputs, labels"
   ]
  },
  {
   "cell_type": "code",
   "execution_count": null,
   "metadata": {},
   "outputs": [],
   "source": [
    "def train(data_loader, model, cross_entropy_loss, optimizer, scheduler, train_step):\n",
    "    tk = tqdm(data_loader)\n",
    "    f1 = F1Score()\n",
    "    for x in tk:\n",
    "        model.train()\n",
    "        inputs, labels = make_batch(x, model.tokenizer, max_len=max_len, device=device)\n",
    "        optimizer.zero_grad()\n",
    "        logits = model(inputs)\n",
    "        loss = cross_entropy_loss(logits, labels)\n",
    "        loss.backward()\n",
    "        optimizer.step()\n",
    "        scheduler.step()\n",
    "\n",
    "        with torch.no_grad():\n",
    "            model.eval()\n",
    "            predict = torch.argmax(torch.softmax(logits, dim=-1))\n",
    "            f1_socre = f1(predict, labels, \"macro\")\n",
    "            tk.set_postfix(Epoch=e, step=train_step, loss=loss.data.item(), f1=f1_socre[0].data.item())\n",
    "        train_step += 1\n",
    "        break\n",
    "    return train_step\n",
    "\n",
    "\n",
    "def evaluation(dev_loader, model, cross_entropy_loss, dev_step):\n",
    "    tk = tqdm(dev_loader)\n",
    "    f1 = F1Score()\n",
    "    model.eval()\n",
    "    with torch.no_grad():\n",
    "        for x in tk:\n",
    "            inputs, labels = make_batch(x, model.tokenizer, max_len=max_len, device=device)\n",
    "            logits = model(inputs)\n",
    "            loss = cross_entropy_loss(logits, labels)\n",
    "            predict = torch.argmax(torch.softmax(logits, dim=-1))\n",
    "            f1_socre = f1(predict, labels, \"macro\")\n",
    "            tk.set_postfix(Epoch=e, step=dev_step, loss=loss.data.item(), f1=f1_socre[0].data.item())\n",
    "            dev_step += 1\n",
    "    return dev_step"
   ]
  },
  {
   "cell_type": "code",
   "execution_count": null,
   "metadata": {},
   "outputs": [],
   "source": [
    "train_step, val_step = 0, 0\n",
    "for e in range(n_epochs):\n",
    "    train_step = train(data_loader, model, cross_entropy_loss, optimizer, scheduler, train_step)\n",
    "    val_step = evaluation(val_loader, model, cross_entropy_loss, val_step)"
   ]
  },
  {
   "cell_type": "code",
   "execution_count": null,
   "metadata": {},
   "outputs": [],
   "source": []
  }
 ],
 "metadata": {
  "interpreter": {
   "hash": "588c3c65383b76165a6314fd44887f12126f262e1694c1f7078238351290b054"
  },
  "kernelspec": {
   "display_name": "Python 3.9.1 ('base')",
   "language": "python",
   "name": "python3"
  },
  "language_info": {
   "codemirror_mode": {
    "name": "ipython",
    "version": 3
   },
   "file_extension": ".py",
   "mimetype": "text/x-python",
   "name": "python",
   "nbconvert_exporter": "python",
   "pygments_lexer": "ipython3",
   "version": "3.9.1"
  },
  "orig_nbformat": 4
 },
 "nbformat": 4,
 "nbformat_minor": 2
}
